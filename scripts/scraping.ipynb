{
 "cells": [
  {
   "cell_type": "markdown",
   "metadata": {},
   "source": [
    "# Scraping"
   ]
  },
  {
   "cell_type": "markdown",
   "metadata": {},
   "source": [
    "### HTML request Setup"
   ]
  },
  {
   "cell_type": "code",
   "execution_count": 2,
   "metadata": {},
   "outputs": [],
   "source": [
    "import requests\n",
    "import bs4\n",
    "\n",
    "spin_off_url = 'https://www.spin-off.fr/calendrier_des_series.html'\n",
    "response = requests.get(spin_off_url).content\n",
    "page = bs4.BeautifulSoup(response, 'html')\n",
    "\n",
    "columns = page.find_all('td', class_='td_jour')"
   ]
  },
  {
   "cell_type": "markdown",
   "metadata": {},
   "source": [
    "### Entity Episode Class"
   ]
  },
  {
   "cell_type": "code",
   "execution_count": 3,
   "metadata": {},
   "outputs": [],
   "source": [
    "class Episode:\n",
    "\n",
    "    def __init__(self, show, episode, season, country, channel, date, link):\n",
    "\n",
    "        self.show = show\n",
    "        self.episode = episode\n",
    "        self.season = season\n",
    "        self.country = country\n",
    "        self.channel = channel\n",
    "        self.date = date\n",
    "        self.link = link\n",
    "    "
   ]
  },
  {
   "cell_type": "markdown",
   "metadata": {},
   "source": [
    "### Scraping Table columns"
   ]
  },
  {
   "cell_type": "code",
   "execution_count": 8,
   "metadata": {},
   "outputs": [],
   "source": [
    "import re\n",
    "\n",
    "calendar = [\n",
    "\n",
    "    {\n",
    "        'date': column.find('div', class_='div_jour').get('id')[5:],\n",
    "        'names': [\n",
    "            re.sub(' +saison [0-9]+ episode .+$', '', name.get('title')) for name in column.find_all('a', class_='liens')\n",
    "        ],\n",
    "        'episodes': [\n",
    "            {\n",
    "                'season': num[0],\n",
    "                'episode': num[1]\n",
    "            } for num in (name.getText().split('.') for name in column.find_all('a', class_='liens'))\n",
    "        ],\n",
    "        'countries': [\n",
    "            country.find_previous_sibling().find_previous_sibling().get('alt') for country in column.find_all('span', class_='calendrier_episodes')\n",
    "        ],\n",
    "        'channels': [\n",
    "            channel.find_previous_sibling().get('alt') for channel in column.find_all('span', class_='calendrier_episodes')\n",
    "        ],\n",
    "        'links': [\n",
    "            link.get('href') for link in column.find_all('a', class_='liens')\n",
    "        ]\n",
    "    }\n",
    "    for column in columns if column.find('div', class_='div_jour')\n",
    "\n",
    "]\n"
   ]
  },
  {
   "cell_type": "markdown",
   "metadata": {},
   "source": [
    "### Episodes formatting"
   ]
  },
  {
   "cell_type": "code",
   "execution_count": 9,
   "metadata": {},
   "outputs": [
    {
     "name": "stdout",
     "output_type": "stream",
     "text": [
      "355\n"
     ]
    }
   ],
   "source": [
    "episodes = []\n",
    "\n",
    "for column in calendar:\n",
    "\n",
    "    for i in range(0, len(column['names'])):\n",
    "\n",
    "        episodes.append(\n",
    "\n",
    "            Episode(\n",
    "\n",
    "                column['names'][i],\n",
    "                # Les épisodes spéciaux sont notés 'XX' et ne peuvent donc pas êtres convertis\n",
    "                # en entiers, on utilisera donc -1\n",
    "                int(column['episodes'][i]['episode']) if column['episodes'][i]['episode'] != 'XX' else -1,\n",
    "                int(column['episodes'][i]['season']),\n",
    "                column['countries'][i],\n",
    "                column['channels'][i],\n",
    "                column['date'],\n",
    "                column['links'][i])\n",
    "                \n",
    "            )\n",
    "\n",
    "print(len(episodes))\n"
   ]
  },
  {
   "cell_type": "markdown",
   "metadata": {},
   "source": [
    "### CSV Export"
   ]
  },
  {
   "cell_type": "code",
   "execution_count": 10,
   "metadata": {},
   "outputs": [
    {
     "name": "stdout",
     "output_type": "stream",
     "text": [
      "CSV file created successfuly\n"
     ]
    }
   ],
   "source": [
    "import csv\n",
    "\n",
    "with open('../datas/files/episodes.csv', 'w', encoding='utf-8', newline='') as csvfile:\n",
    "\n",
    "    fieldnames = ['show', 'episode', 'season', 'country', 'channel', 'date', 'link']\n",
    "    writer = csv.DictWriter(csvfile, fieldnames=fieldnames)\n",
    "\n",
    "    # Écriture de l'en-tête du fichier CSV\n",
    "    writer.writeheader()\n",
    "\n",
    "    # Écriture des données des épisodes dans le fichier CSV\n",
    "    for episode in episodes:\n",
    "        writer.writerow({\n",
    "            'show': episode.show,\n",
    "            'episode': episode.episode,\n",
    "            'season': episode.season,\n",
    "            'country': episode.country,\n",
    "            'channel': episode.channel,\n",
    "            'date': episode.date,\n",
    "            'link': episode.link,\n",
    "        })\n",
    "\n",
    "print('CSV file created successfuly')\n"
   ]
  },
  {
   "cell_type": "markdown",
   "metadata": {},
   "source": [
    "### CSV Parsing"
   ]
  },
  {
   "cell_type": "code",
   "execution_count": 9,
   "metadata": {},
   "outputs": [
    {
     "name": "stdout",
     "output_type": "stream",
     "text": [
      "[('4 Estrellas', 110, 1, 'Espagne', 'TVE', '01-11-2023', 'episode110-411772-01112023-saison1-4-Estrellas.html\\r\\n'), ('Black Cake', 1, 1, 'Etats-Unis', 'Hulu', '01-11-2023', 'episode01-410147-01112023-saison1-Black-Cake.html\\r\\n'), ('Black Cake', 2, 1, 'Etats-Unis', 'Hulu', '01-11-2023', 'episode02-410148-01112023-saison1-Black-Cake.html\\r\\n'), ('Black Cake', 3, 1, 'Etats-Unis', 'Hulu', '01-11-2023', 'episode03-410149-01112023-saison1-Black-Cake.html\\r\\n'), ('Blanca', 5, 2, 'Italie', 'Rai 1', '01-11-2023', 'episode05-411693-01112023-saison2-Blanca.html\\r\\n'), ('Children Ruin Everything', 6, 3, 'Canada', 'CTV', '01-11-2023', 'episode06-411350-01112023-saison3-Children-Ruin-Everything.html\\r\\n'), ('Chucky', 5, 3, 'Etats-Unis', 'Syfy', '01-11-2023', 'episode05-409118-01112023-saison3-Chucky.html\\r\\n'), (\"Cooper's Bar\", 5, 2, 'Etats-Unis', 'AMC', '01-11-2023', 'episode05-411065-01112023-saison2-Cooper-s-Bar.html\\r\\n'), ('Demain nous appartient', 53, 7, 'France', 'TF1', '01-11-2023', 'episode53-411593-01112023-saison7-Demain-nous-appartient.html\\r\\n'), ('Hotel Mondial', 5, 2, 'Allemagne', 'ZDF', '01-11-2023', 'episode05-411891-01112023-saison2-Hotel-Mondial.html\\r\\n'), ('Hudson & Rex', 5, 6, 'Canada', 'Citytv', '01-11-2023', 'episode05-411635-01112023-saison6-Hudson--Rex.html\\r\\n'), ('I Leoni di Sicilia', 5, 1, 'Etats-Unis', 'Disney+', '01-11-2023', 'episode05-411338-01112023-saison1-I-Leoni-di-Sicilia.html\\r\\n'), ('I Leoni di Sicilia', 6, 1, 'Etats-Unis', 'Disney+', '01-11-2023', 'episode06-411339-01112023-saison1-I-Leoni-di-Sicilia.html\\r\\n'), ('I Leoni di Sicilia', 7, 1, 'Etats-Unis', 'Disney+', '01-11-2023', 'episode07-411340-01112023-saison1-I-Leoni-di-Sicilia.html\\r\\n'), ('I Leoni di Sicilia', 8, 1, 'Etats-Unis', 'Disney+', '01-11-2023', 'episode08-411341-01112023-saison1-I-Leoni-di-Sicilia.html\\r\\n'), ('Ici tout commence', 48, 4, 'France', 'TF1', '01-11-2023', 'episode48-411578-01112023-saison4-Ici-tout-commence.html\\r\\n'), ('Inspirez expirez', 4, 1, 'Canada', 'CraveTV', '01-11-2023', 'episode04-411698-01112023-saison1-Inspirez-expirez.html\\r\\n'), ('Inspirez expirez', 5, 1, 'Canada', 'CraveTV', '01-11-2023', 'episode05-411699-01112023-saison1-Inspirez-expirez.html\\r\\n'), ('Magnum P.I. (2018)', 15, 5, 'Etats-Unis', 'NBC', '01-11-2023', 'episode15-410787-01112023-saison5-Magnum-PI-(2018).html\\r\\n'), ('Quantum Leap (2022)', 5, 2, 'Etats-Unis', 'NBC', '01-11-2023', 'episode05-410596-01112023-saison2-Quantum-Leap-(2022).html\\r\\n'), ('Robyn Hood', 6, 1, 'Canada', 'Global', '01-11-2023', 'episode06-411297-01112023-saison1-Robyn-Hood.html\\r\\n'), ('Shetland', 1, 8, 'Royaume-Uni', 'BBC One', '01-11-2023', 'episode01-411316-01112023-saison8-Shetland.html\\r\\n'), ('Sistas', 14, 6, 'Etats-Unis', 'BET', '01-11-2023', 'episode14-411347-01112023-saison6-Sistas.html\\r\\n'), ('SurrealEstate', 5, 2, 'Etats-Unis', 'Syfy', '01-11-2023', 'episode05-410888-01112023-saison2-SurrealEstate.html\\r\\n'), ('The Morning Show', 9, 3, 'Etats-Unis', 'Apple TV+', '01-11-2023', 'episode09-407704-01112023-saison3-The-Morning-Show.html\\r\\n'), ('Un Si Grand Soleil', 42, 6, 'France', 'France 2', '01-11-2023', 'episode42-411607-01112023-saison6-Un-Si-Grand-Soleil.html\\r\\n'), ('Young Dylan', 9, 4, 'Etats-Unis', 'Nickelodeon', '01-11-2023', 'episode09-411284-01112023-saison4-Young-Dylan.html\\r\\n'), ('4 Estrellas', 111, 1, 'Espagne', 'TVE', '02-11-2023', 'episode111-411773-02112023-saison1-4-Estrellas.html\\r\\n'), ('All Creatures Great and Small (2020)', 5, 4, 'Royaume-Uni', 'Channel 5', '02-11-2023', 'episode05-411160-02112023-saison4-All-Creatures-Great-and-Small-(2020).html\\r\\n'), ('All the Light We Cannot See', 1, 1, 'Etats-Unis', 'Netflix', '02-11-2023', 'episode01-404459-02112023-saison1-All-the-Light-We-Cannot-See.html\\r\\n'), ('All the Light We Cannot See', 2, 1, 'Etats-Unis', 'Netflix', '02-11-2023', 'episode02-404460-02112023-saison1-All-the-Light-We-Cannot-See.html\\r\\n'), ('All the Light We Cannot See', 3, 1, 'Etats-Unis', 'Netflix', '02-11-2023', 'episode03-404461-02112023-saison1-All-the-Light-We-Cannot-See.html\\r\\n'), ('All the Light We Cannot See', 4, 1, 'Etats-Unis', 'Netflix', '02-11-2023', 'episode04-404462-02112023-saison1-All-the-Light-We-Cannot-See.html\\r\\n'), ('À La Carte', 8, 2, 'Etats-Unis', 'ALLBLK', '02-11-2023', 'episode08-410521-02112023-saison2-A-La-Carte.html\\r\\n'), ('Demain nous appartient', 54, 7, 'France', 'TF1', '02-11-2023', 'episode54-411594-02112023-saison7-Demain-nous-appartient.html\\r\\n'), ('Doom Patrol', 11, 4, 'Etats-Unis', 'HBO Max', '02-11-2023', 'episode11-410008-02112023-saison4-Doom-Patrol.html\\r\\n'), ('Frasier (2023)', 5, 1, 'Etats-Unis', 'Paramount+', '02-11-2023', 'episode05-409727-02112023-saison1-Frasier-(2023).html\\r\\n'), ('Gadis Kretek', 1, 1, 'Etats-Unis', 'Netflix', '02-11-2023', 'episode01-409077-02112023-saison1-Gadis-Kretek.html\\r\\n'), ('Gadis Kretek', 2, 1, 'Etats-Unis', 'Netflix', '02-11-2023', 'episode02-411842-02112023-saison1-Gadis-Kretek.html\\r\\n'), ('Gadis Kretek', 3, 1, 'Etats-Unis', 'Netflix', '02-11-2023', 'episode03-411843-02112023-saison1-Gadis-Kretek.html\\r\\n'), ('Gadis Kretek', 4, 1, 'Etats-Unis', 'Netflix', '02-11-2023', 'episode04-411844-02112023-saison1-Gadis-Kretek.html\\r\\n'), ('Gadis Kretek', 5, 1, 'Etats-Unis', 'Netflix', '02-11-2023', 'episode05-411845-02112023-saison1-Gadis-Kretek.html\\r\\n'), ('Ici tout commence', 49, 4, 'France', 'TF1', '02-11-2023', 'episode49-411579-02112023-saison4-Ici-tout-commence.html\\r\\n'), ('Kingdom Business', 1, 2, 'Etats-Unis', 'BET+', '02-11-2023', 'episode01-411099-02112023-saison2-Kingdom-Business.html\\r\\n'), ('La Mesias', 5, 1, 'Espagne', 'Moviestar+', '02-11-2023', 'episode05-410547-02112023-saison1-La-Mesias.html\\r\\n'), ('Loki', 5, 2, 'Etats-Unis', 'Disney+', '02-11-2023', 'episode05-410905-02112023-saison2-Loki.html\\r\\n'), ('LT-21', 7, 1, 'France', 'OCS', '02-11-2023', 'episode07-408968-02112023-saison1-LT-21.html\\r\\n'), ('LT-21', 8, 1, 'France', 'OCS', '02-11-2023', 'episode08-408969-02112023-saison1-LT-21.html\\r\\n'), ('Star Trek: Lower Decks', 10, 4, 'Etats-Unis', 'Paramount+', '02-11-2023', 'episode10-409764-02112023-saison4-Star-Trek-Lower-Decks.html\\r\\n'), ('The Vanishing Triangle', 3, 1, 'Etats-Unis', 'SundanceTV', '02-11-2023', 'episode03-410195-02112023-saison1-The-Vanishing-Triangle.html\\r\\n'), ('Un Si Grand Soleil', 43, 6, 'France', 'France 2', '02-11-2023', 'episode43-411608-02112023-saison6-Un-Si-Grand-Soleil.html\\r\\n'), ('All Rise', 18, 3, 'Etats-Unis', 'OWN', '04-11-2023', 'episode18-411548-04112023-saison3-All-Rise.html\\r\\n'), ('Boomer', 10, 1, 'Belgique', 'Één', '04-11-2023', 'episode10-409831-04112023-saison1-Boomer.html\\r\\n'), ('Billy the Kid', 4, 2, 'Etats-Unis', 'Epix', '05-11-2023', 'episode04-409590-05112023-saison2-Billy-the-Kid.html\\r\\n'), (\"Bob's Burgers\", 5, 14, 'Etats-Unis', 'Fox', '05-11-2023', 'episode05-411285-05112023-saison14-Bob-s-Burgers.html\\r\\n'), ('Entre Tierras', 9, 1, 'Espagne', 'ATRESplayer', '05-11-2023', 'episode09-410975-05112023-saison1-Entre-Tierras.html\\r\\n'), ('Family Guy', 4, 22, 'Etats-Unis', 'Fox', '05-11-2023', 'episode04-411119-05112023-saison22-Family-Guy.html\\r\\n'), ('Fear the Walking Dead', 9, 8, 'Etats-Unis', 'AMC', '05-11-2023', 'episode09-408756-05112023-saison8-Fear-the-Walking-Dead.html\\r\\n'), ('Heartland (CA)', 6, 17, 'Canada', 'CBC', '05-11-2023', 'episode06-411342-05112023-saison17-Heartland-(CA).html\\r\\n'), ('Krapopolis', 7, 1, 'Etats-Unis', 'Fox', '05-11-2023', 'episode07-410711-05112023-saison1-Krapopolis.html\\r\\n'), ('Lawmen: Bass Reeves', 1, 1, 'Etats-Unis', 'Paramount+', '05-11-2023', 'episode01-409976-05112023-saison1-Lawmen-Bass-Reeves.html\\r\\n'), ('Lawmen: Bass Reeves', 2, 1, 'Etats-Unis', 'Paramount+', '05-11-2023', 'episode02-409977-05112023-saison1-Lawmen-Bass-Reeves.html\\r\\n'), (\"Les Mystères de l'amour\", 13, 33, 'France', 'TMC', '05-11-2023', 'episode13-411298-05112023-saison33-Les-Mysteres-de-l-amour.html\\r\\n'), ('Rick and Morty', 4, 7, 'Etats-Unis', 'Adult Swim', '05-11-2023', 'episode04-411272-05112023-saison7-Rick-and-Morty.html\\r\\n'), ('SkyMed', 6, 2, 'Canada', 'CBC Gem', '05-11-2023', 'episode06-411467-05112023-saison2-SkyMed.html\\r\\n'), ('The Gilded Age', 2, 2, 'Etats-Unis', 'HBO', '05-11-2023', 'episode02-411126-05112023-saison2-The-Gilded-Age.html\\r\\n'), ('The Simpsons', 5, 35, 'Etats-Unis', 'Fox', '05-11-2023', 'episode05-410986-05112023-saison35-The-Simpsons.html\\r\\n'), ('The Winter King', 10, 1, 'Royaume-Uni', 'ITVX', '05-11-2023', 'episode10-409136-05112023-saison1-The-Winter-King.html\\r\\n'), ('Acting Good', 4, 2, 'Canada', 'The Comedy Network', '06-11-2023', 'episode04-411299-06112023-saison2-Acting-Good.html\\r\\n'), ('American Dad!', 16, 19, 'Etats-Unis', 'TBS (US)', '06-11-2023', 'episode16-411549-06112023-saison19-American-Dad.html\\r\\n'), (\"D'argent et de sang\", 5, 1, 'France', 'Canal+', '06-11-2023', 'episode05-411405-06112023-saison1-D-argent-et-de-sang.html\\r\\n'), ('Harry Wild', 6, 2, 'Etats-Unis', 'Acorn TV', '06-11-2023', 'episode06-410204-06112023-saison2-Harry-Wild.html\\r\\n'), ('Murdoch Mysteries', 6, 17, 'Canada', 'Citytv', '06-11-2023', 'episode06-411314-06112023-saison17-Murdoch-Mysteries.html\\r\\n'), ('SOKO Potsdam', 7, 6, 'Allemagne', 'ZDF', '06-11-2023', 'episode07-411468-06112023-saison6-SOKO-Potsdam.html\\r\\n'), ('The Irrational', 7, 1, 'Etats-Unis', 'NBC', '06-11-2023', 'episode07-409866-06112023-saison1-The-Irrational.html\\r\\n'), ('Found', 6, 1, 'Etats-Unis', 'NBC', '07-11-2023', 'episode06-409897-07112023-saison1-Found.html\\r\\n'), ('The Oval', 4, 5, 'Etats-Unis', 'BET', '07-11-2023', 'episode04-411618-07112023-saison5-The-Oval.html\\r\\n'), ('Black Cake', 4, 1, 'Etats-Unis', 'Hulu', '08-11-2023', 'episode04-410150-08112023-saison1-Black-Cake.html\\r\\n'), ('Blanca', 6, 2, 'Italie', 'Rai 1', '08-11-2023', 'episode06-411694-08112023-saison2-Blanca.html\\r\\n'), ('Children Ruin Everything', 7, 3, 'Canada', 'CTV', '08-11-2023', 'episode07-411435-08112023-saison3-Children-Ruin-Everything.html\\r\\n'), ('Chucky', 6, 3, 'Etats-Unis', 'Syfy', '08-11-2023', 'episode06-409119-08112023-saison3-Chucky.html\\r\\n'), (\"Cooper's Bar\", 6, 2, 'Etats-Unis', 'AMC', '08-11-2023', 'episode06-411066-08112023-saison2-Cooper-s-Bar.html\\r\\n'), ('Culprits', 1, 1, 'Etats-Unis', 'Disney+', '08-11-2023', 'episode01-411644-08112023-saison1-Culprits.html\\r\\n'), ('Culprits', 2, 1, 'Etats-Unis', 'Disney+', '08-11-2023', 'episode02-411645-08112023-saison1-Culprits.html\\r\\n'), ('Culprits', 3, 1, 'Etats-Unis', 'Disney+', '08-11-2023', 'episode03-411646-08112023-saison1-Culprits.html\\r\\n'), ('Culprits', 4, 1, 'Etats-Unis', 'Disney+', '08-11-2023', 'episode04-411647-08112023-saison1-Culprits.html\\r\\n'), ('Culprits', 5, 1, 'Etats-Unis', 'Disney+', '08-11-2023', 'episode05-411648-08112023-saison1-Culprits.html\\r\\n'), ('Culprits', 6, 1, 'Etats-Unis', 'Disney+', '08-11-2023', 'episode06-411649-08112023-saison1-Culprits.html\\r\\n'), ('Culprits', 7, 1, 'Etats-Unis', 'Disney+', '08-11-2023', 'episode07-411650-08112023-saison1-Culprits.html\\r\\n'), ('Culprits', 8, 1, 'Etats-Unis', 'Disney+', '08-11-2023', 'episode08-411651-08112023-saison1-Culprits.html\\r\\n'), ('Hotel Mondial', 6, 2, 'Allemagne', 'ZDF', '08-11-2023', 'episode06-411892-08112023-saison2-Hotel-Mondial.html\\r\\n'), ('Hudson & Rex', 6, 6, 'Canada', 'Citytv', '08-11-2023', 'episode06-411637-08112023-saison6-Hudson--Rex.html\\r\\n'), ('Inspirez expirez', 6, 1, 'Canada', 'CraveTV', '08-11-2023', 'episode06-411700-08112023-saison1-Inspirez-expirez.html\\r\\n'), ('Inspirez expirez', 7, 1, 'Canada', 'CraveTV', '08-11-2023', 'episode07-411701-08112023-saison1-Inspirez-expirez.html\\r\\n'), ('Robyn Hood', 7, 1, 'Canada', 'Global', '08-11-2023', 'episode07-411619-08112023-saison1-Robyn-Hood.html\\r\\n'), ('Shetland', 2, 8, 'Royaume-Uni', 'BBC One', '08-11-2023', 'episode02-411317-08112023-saison8-Shetland.html\\r\\n'), ('Sistas', 15, 6, 'Etats-Unis', 'BET', '08-11-2023', 'episode15-411638-08112023-saison6-Sistas.html\\r\\n'), ('SurrealEstate', 6, 2, 'Etats-Unis', 'Syfy', '08-11-2023', 'episode06-410889-08112023-saison2-SurrealEstate.html\\r\\n'), ('The Buccaneers (2023)', 1, 1, 'Etats-Unis', 'Apple TV+', '08-11-2023', 'episode01-409067-08112023-saison1-The-Buccaneers-(2023).html\\r\\n'), ('The Buccaneers (2023)', 2, 1, 'Etats-Unis', 'Apple TV+', '08-11-2023', 'episode02-409068-08112023-saison1-The-Buccaneers-(2023).html\\r\\n'), ('The Buccaneers (2023)', 3, 1, 'Etats-Unis', 'Apple TV+', '08-11-2023', 'episode03-409069-08112023-saison1-The-Buccaneers-(2023).html\\r\\n'), ('The Morning Show', 10, 3, 'Etats-Unis', 'Apple TV+', '08-11-2023', 'episode10-407705-08112023-saison3-The-Morning-Show.html\\r\\n'), ('The Santa Clauses', 1, 2, 'Etats-Unis', 'Disney+', '08-11-2023', 'episode01-410598-08112023-saison2-The-Santa-Clauses.html\\r\\n'), ('The Santa Clauses', 2, 2, 'Etats-Unis', 'Disney+', '08-11-2023', 'episode02-410599-08112023-saison2-The-Santa-Clauses.html\\r\\n'), ('Vigilante', 1, 1, 'Etats-Unis', 'Disney+', '08-11-2023', 'episode01-411684-08112023-saison1-Vigilante.html\\r\\n'), ('Young Dylan', 10, 4, 'Etats-Unis', 'Nickelodeon', '08-11-2023', 'episode10-411482-08112023-saison4-Young-Dylan.html\\r\\n'), ('All Creatures Great and Small (2020)', 6, 4, 'Royaume-Uni', 'Channel 5', '09-11-2023', 'episode06-411519-09112023-saison4-All-Creatures-Great-and-Small-(2020).html\\r\\n'), ('À La Carte', 9, 2, 'Etats-Unis', 'ALLBLK', '09-11-2023', 'episode09-410522-09112023-saison2-A-La-Carte.html\\r\\n'), ('BlackBerry', 1, 1, 'Canada', 'CBC', '09-11-2023', 'episode01-411705-09112023-saison1-BlackBerry.html\\r\\n'), ('Bros', 1, 1, 'Etats-Unis', 'Netflix', '09-11-2023', 'episode01-411565-09112023-saison1-Bros.html\\r\\n'), ('Doom Patrol', 12, 4, 'Etats-Unis', 'HBO Max', '09-11-2023', 'episode12-410009-09112023-saison4-Doom-Patrol.html\\r\\n'), ('Frasier (2023)', 6, 1, 'Etats-Unis', 'Paramount+', '09-11-2023', 'episode06-409728-09112023-saison1-Frasier-(2023).html\\r\\n'), ('Kingdom Business', 2, 2, 'Etats-Unis', 'BET+', '09-11-2023', 'episode02-411745-09112023-saison2-Kingdom-Business.html\\r\\n'), ('La Mesias', 6, 1, 'Espagne', 'Moviestar+', '09-11-2023', 'episode06-410548-09112023-saison1-La-Mesias.html\\r\\n'), ('Loki', 6, 2, 'Etats-Unis', 'Disney+', '09-11-2023', 'episode06-410906-09112023-saison2-Loki.html\\r\\n'), ('Master Crimes', 1, 1, 'France', 'TF1', '09-11-2023', 'episode01-411527-09112023-saison1-Master-Crimes.html\\r\\n'), ('Master Crimes', 2, 1, 'France', 'TF1', '09-11-2023', 'episode02-411528-09112023-saison1-Master-Crimes.html\\r\\n'), ('Rap Sh!t', 1, 2, 'Etats-Unis', 'HBO Max', '09-11-2023', 'episode01-408167-09112023-saison2-Rap-Sht.html\\r\\n'), ('Rap Sh!t', 2, 2, 'Etats-Unis', 'HBO Max', '09-11-2023', 'episode02-408168-09112023-saison2-Rap-Sht.html\\r\\n'), ('The Vanishing Triangle', 4, 1, 'Etats-Unis', 'SundanceTV', '09-11-2023', 'episode04-410196-09112023-saison1-The-Vanishing-Triangle.html\\r\\n'), ('At the Moment (Ci Shi Ci Ke)', 1, 1, 'Etats-Unis', 'Netflix', '10-11-2023', 'episode01-411674-10112023-saison1-At-the-Moment-(Ci-Shi-Ci-Ke).html\\r\\n'), ('At the Moment (Ci Shi Ci Ke)', 2, 1, 'Etats-Unis', 'Netflix', '10-11-2023', 'episode02-411675-10112023-saison1-At-the-Moment-(Ci-Shi-Ci-Ke).html\\r\\n'), ('At the Moment (Ci Shi Ci Ke)', 3, 1, 'Etats-Unis', 'Netflix', '10-11-2023', 'episode03-411676-10112023-saison1-At-the-Moment-(Ci-Shi-Ci-Ke).html\\r\\n'), ('At the Moment (Ci Shi Ci Ke)', 4, 1, 'Etats-Unis', 'Netflix', '10-11-2023', 'episode04-411677-10112023-saison1-At-the-Moment-(Ci-Shi-Ci-Ke).html\\r\\n'), ('At the Moment (Ci Shi Ci Ke)', 5, 1, 'Etats-Unis', 'Netflix', '10-11-2023', 'episode05-411678-10112023-saison1-At-the-Moment-(Ci-Shi-Ci-Ke).html\\r\\n'), ('At the Moment (Ci Shi Ci Ke)', 6, 1, 'Etats-Unis', 'Netflix', '10-11-2023', 'episode06-411679-10112023-saison1-At-the-Moment-(Ci-Shi-Ci-Ke).html\\r\\n'), ('At the Moment (Ci Shi Ci Ke)', 7, 1, 'Etats-Unis', 'Netflix', '10-11-2023', 'episode07-411680-10112023-saison1-At-the-Moment-(Ci-Shi-Ci-Ke).html\\r\\n'), ('At the Moment (Ci Shi Ci Ke)', 8, 1, 'Etats-Unis', 'Netflix', '10-11-2023', 'episode08-411681-10112023-saison1-At-the-Moment-(Ci-Shi-Ci-Ke).html\\r\\n'), ('At the Moment (Ci Shi Ci Ke)', 9, 1, 'Etats-Unis', 'Netflix', '10-11-2023', 'episode09-411682-10112023-saison1-At-the-Moment-(Ci-Shi-Ci-Ke).html\\r\\n'), ('At the Moment (Ci Shi Ci Ke)', 10, 1, 'Etats-Unis', 'Netflix', '10-11-2023', 'episode10-411683-10112023-saison1-At-the-Moment-(Ci-Shi-Ci-Ke).html\\r\\n'), ('Bosch: Legacy', 9, 2, 'Etats-Unis', 'Amazon Freevee', '10-11-2023', 'episode09-409715-10112023-saison2-Bosch-Legacy.html\\r\\n'), ('Bosch: Legacy', 10, 2, 'Etats-Unis', 'Amazon Freevee', '10-11-2023', 'episode10-409716-10112023-saison2-Bosch-Legacy.html\\r\\n'), ('Fellow Travelers', 3, 1, 'Etats-Unis', 'Showtime', '10-11-2023', 'episode03-411068-10112023-saison1-Fellow-Travelers.html\\r\\n'), ('For All Mankind', 1, 4, 'Etats-Unis', 'Apple TV+', '10-11-2023', 'episode01-410205-10112023-saison4-For-All-Mankind.html\\r\\n'), ('Goosebumps (2023)', 9, 1, 'Etats-Unis', 'Disney+', '10-11-2023', 'episode09-409986-10112023-saison1-Goosebumps-(2023).html\\r\\n'), ('Invincible', 2, 2, 'Etats-Unis', 'Prime Video', '10-11-2023', 'episode02-411873-10112023-saison2-Invincible.html\\r\\n'), ('Lessons In Chemistry', 6, 1, 'Etats-Unis', 'Apple TV+', '10-11-2023', 'episode06-406602-10112023-saison1-Lessons-In-Chemistry.html\\r\\n'), ('NCIS: Sydney', 1, 1, 'Etats-Unis', 'Paramount+', '10-11-2023', 'episode01-410215-10112023-saison1-NCIS-Sydney.html\\r\\n'), ('Power Book IV: Force', 10, 2, 'Etats-Unis', 'Starz', '10-11-2023', 'episode10-411348-10112023-saison2-Power-Book-IV-Force.html\\r\\n'), ('Shining Vale', 5, 2, 'Etats-Unis', 'Starz', '10-11-2023', 'episode05-411127-10112023-saison2-Shining-Vale.html\\r\\n'), ('SOKO Leipzig', 12, 24, 'Allemagne', 'ZDF', '10-11-2023', 'episode12-411900-10112023-saison24-SOKO-Leipzig.html\\r\\n'), ('Solsidan', 8, 8, 'Suède', 'TV4', '10-11-2023', 'episode08-411758-10112023-saison8-Solsidan.html\\r\\n'), ('The Curse (2023)', 1, 1, 'Etats-Unis', 'Showtime on Demand', '10-11-2023', 'episode01-410727-10112023-saison1-The-Curse-(2023).html\\r\\n'), ('The Good Ship Murder', 5, 1, 'Royaume-Uni', 'Channel 5', '10-11-2023', 'episode05-411246-10112023-saison1-The-Good-Ship-Murder.html\\r\\n'), ('Transplant', 6, 4, 'Canada', 'CTV', '10-11-2023', 'episode06-409842-10112023-saison4-Transplant.html\\r\\n'), ('Upload', 7, 3, 'Etats-Unis', 'Prime Video', '10-11-2023', 'episode07-410016-10112023-saison3-Upload.html\\r\\n'), ('Upload', 8, 3, 'Etats-Unis', 'Prime Video', '10-11-2023', 'episode08-410017-10112023-saison3-Upload.html\\r\\n'), ('Yellowstone', 9, 5, 'Etats-Unis', 'Paramount Network', '10-11-2023', 'episode09-410018-10112023-saison5-Yellowstone.html\\r\\n'), ('All Rise', 19, 3, 'Etats-Unis', 'OWN', '11-11-2023', 'episode19-411550-11112023-saison3-All-Rise.html\\r\\n'), ('Beacon 23', 1, 1, 'Etats-Unis', 'Epix', '12-11-2023', 'episode01-410617-12112023-saison1-Beacon-23.html\\r\\n'), (\"Bob's Burgers\", 6, 14, 'Etats-Unis', 'Fox', '12-11-2023', 'episode06-411551-12112023-saison14-Bob-s-Burgers.html\\r\\n'), ('Entre Tierras', 10, 1, 'Espagne', 'ATRESplayer', '12-11-2023', 'episode10-410976-12112023-saison1-Entre-Tierras.html\\r\\n'), ('Family Guy', 5, 22, 'Etats-Unis', 'Fox', '12-11-2023', 'episode05-411552-12112023-saison22-Family-Guy.html\\r\\n'), ('Fear the Walking Dead', 10, 8, 'Etats-Unis', 'AMC', '12-11-2023', 'episode10-408757-12112023-saison8-Fear-the-Walking-Dead.html\\r\\n'), ('Heartland (CA)', 7, 17, 'Canada', 'CBC', '12-11-2023', 'episode07-411620-12112023-saison17-Heartland-(CA).html\\r\\n'), ('Krapopolis', 8, 1, 'Etats-Unis', 'Fox', '12-11-2023', 'episode08-410873-12112023-saison1-Krapopolis.html\\r\\n'), (\"Les Mystères de l'amour\", 14, 33, 'France', 'TMC', '12-11-2023', 'episode14-411488-12112023-saison33-Les-Mysteres-de-l-amour.html\\r\\n'), ('Rick and Morty', 5, 7, 'Etats-Unis', 'Adult Swim', '12-11-2023', 'episode05-411273-12112023-saison7-Rick-and-Morty.html\\r\\n'), ('SkyMed', 7, 2, 'Canada', 'CBC Gem', '12-11-2023', 'episode07-411756-12112023-saison2-SkyMed.html\\r\\n'), ('The Gilded Age', 3, 2, 'Etats-Unis', 'HBO', '12-11-2023', 'episode03-411128-12112023-saison2-The-Gilded-Age.html\\r\\n'), ('The Simpsons', 6, 35, 'Etats-Unis', 'Fox', '12-11-2023', 'episode06-411615-12112023-saison35-The-Simpsons.html\\r\\n'), ('Acting Good', 5, 2, 'Canada', 'The Comedy Network', '13-11-2023', 'episode05-411300-13112023-saison2-Acting-Good.html\\r\\n'), ('American Dad!', 17, 19, 'Etats-Unis', 'TBS (US)', '13-11-2023', 'episode17-411621-13112023-saison19-American-Dad.html\\r\\n'), ('Andy and the Band', 1, 3, 'Royaume-Uni', 'BBC iPlayer', '13-11-2023', 'episode01-411499-13112023-saison3-Andy-and-the-Band.html\\r\\n'), ('Andy and the Band', 2, 3, 'Royaume-Uni', 'BBC iPlayer', '13-11-2023', 'episode02-411500-13112023-saison3-Andy-and-the-Band.html\\r\\n'), ('Andy and the Band', 3, 3, 'Royaume-Uni', 'BBC iPlayer', '13-11-2023', 'episode03-411501-13112023-saison3-Andy-and-the-Band.html\\r\\n'), ('Andy and the Band', 4, 3, 'Royaume-Uni', 'BBC iPlayer', '13-11-2023', 'episode04-411502-13112023-saison3-Andy-and-the-Band.html\\r\\n'), ('Andy and the Band', 5, 3, 'Royaume-Uni', 'BBC iPlayer', '13-11-2023', 'episode05-411503-13112023-saison3-Andy-and-the-Band.html\\r\\n'), ('Andy and the Band', 6, 3, 'Royaume-Uni', 'BBC iPlayer', '13-11-2023', 'episode06-411504-13112023-saison3-Andy-and-the-Band.html\\r\\n'), ('Andy and the Band', 7, 3, 'Royaume-Uni', 'BBC iPlayer', '13-11-2023', 'episode07-411505-13112023-saison3-Andy-and-the-Band.html\\r\\n'), ('Andy and the Band', 8, 3, 'Royaume-Uni', 'BBC iPlayer', '13-11-2023', 'episode08-411506-13112023-saison3-Andy-and-the-Band.html\\r\\n'), ('Andy and the Band', 9, 3, 'Royaume-Uni', 'BBC iPlayer', '13-11-2023', 'episode09-411507-13112023-saison3-Andy-and-the-Band.html\\r\\n'), ('Andy and the Band', 10, 3, 'Royaume-Uni', 'BBC iPlayer', '13-11-2023', 'episode10-411508-13112023-saison3-Andy-and-the-Band.html\\r\\n'), ('Andy and the Band', 11, 3, 'Royaume-Uni', 'BBC iPlayer', '13-11-2023', 'episode11-411509-13112023-saison3-Andy-and-the-Band.html\\r\\n'), ('Andy and the Band', 12, 3, 'Royaume-Uni', 'BBC iPlayer', '13-11-2023', 'episode12-411510-13112023-saison3-Andy-and-the-Band.html\\r\\n'), ('Andy and the Band', 13, 3, 'Royaume-Uni', 'BBC iPlayer', '13-11-2023', 'episode13-411511-13112023-saison3-Andy-and-the-Band.html\\r\\n'), ('Andy and the Band', 14, 3, 'Royaume-Uni', 'BBC iPlayer', '13-11-2023', 'episode14-411512-13112023-saison3-Andy-and-the-Band.html\\r\\n'), ('Andy and the Band', 15, 3, 'Royaume-Uni', 'BBC iPlayer', '13-11-2023', 'episode15-411513-13112023-saison3-Andy-and-the-Band.html\\r\\n'), ('Andy and the Band', 16, 3, 'Royaume-Uni', 'BBC iPlayer', '13-11-2023', 'episode16-411514-13112023-saison3-Andy-and-the-Band.html\\r\\n'), ('Andy and the Band', 17, 3, 'Royaume-Uni', 'BBC iPlayer', '13-11-2023', 'episode17-411515-13112023-saison3-Andy-and-the-Band.html\\r\\n'), ('Andy and the Band', 18, 3, 'Royaume-Uni', 'BBC iPlayer', '13-11-2023', 'episode18-411516-13112023-saison3-Andy-and-the-Band.html\\r\\n'), ('Andy and the Band', 19, 3, 'Royaume-Uni', 'BBC iPlayer', '13-11-2023', 'episode19-411517-13112023-saison3-Andy-and-the-Band.html\\r\\n'), ('Andy and the Band', 20, 3, 'Royaume-Uni', 'BBC iPlayer', '13-11-2023', 'episode20-411518-13112023-saison3-Andy-and-the-Band.html\\r\\n'), (\"D'argent et de sang\", 6, 1, 'France', 'Canal+', '13-11-2023', 'episode06-411406-13112023-saison1-D-argent-et-de-sang.html\\r\\n'), ('Murdoch Mysteries', 7, 17, 'Canada', 'Citytv', '13-11-2023', 'episode07-411520-13112023-saison17-Murdoch-Mysteries.html\\r\\n'), ('SOKO Potsdam', 8, 6, 'Allemagne', 'ZDF', '13-11-2023', 'episode08-411469-13112023-saison6-SOKO-Potsdam.html\\r\\n'), ('The Irrational', 8, 1, 'Etats-Unis', 'NBC', '13-11-2023', 'episode08-409867-13112023-saison1-The-Irrational.html\\r\\n'), ('A Murder at the End of the World', 1, 1, 'Etats-Unis', 'Hulu', '14-11-2023', 'episode01-407977-14112023-saison1-A-Murder-at-the-End-of-the-World.html\\r\\n'), ('A Murder at the End of the World', 2, 1, 'Etats-Unis', 'Hulu', '14-11-2023', 'episode02-407978-14112023-saison1-A-Murder-at-the-End-of-the-World.html\\r\\n'), ('DNA do Crime', 1, 1, 'Etats-Unis', 'Netflix', '14-11-2023', 'episode01-411653-14112023-saison1-DNA-do-Crime.html\\r\\n'), ('Found', 7, 1, 'Etats-Unis', 'NBC', '14-11-2023', 'episode07-409898-14112023-saison1-Found.html\\r\\n'), ('Suburræterna', 1, 1, 'Etats-Unis', 'Netflix', '14-11-2023', 'episode01-410618-14112023-saison1-Suburraeterna.html\\r\\n'), ('Black Cake', 5, 1, 'Etats-Unis', 'Hulu', '15-11-2023', 'episode05-410151-15112023-saison1-Black-Cake.html\\r\\n'), ('Chucky', 7, 3, 'Etats-Unis', 'Syfy', '15-11-2023', 'episode07-409120-15112023-saison3-Chucky.html\\r\\n'), ('Deutsches Haus', 1, 1, 'Etats-Unis', 'Disney+', '15-11-2023', 'episode01-409989-15112023-saison1-Deutsches-Haus.html\\r\\n'), ('Hotel Mondial', 7, 2, 'Allemagne', 'ZDF', '15-11-2023', 'episode07-411893-15112023-saison2-Hotel-Mondial.html\\r\\n'), ('Informacja zwrotna', 1, 1, 'Etats-Unis', 'Netflix', '15-11-2023', 'episode01-411685-15112023-saison1-Informacja-zwrotna.html\\r\\n'), ('Inspirez expirez', 8, 1, 'Canada', 'CraveTV', '15-11-2023', 'episode08-411702-15112023-saison1-Inspirez-expirez.html\\r\\n'), ('Inspirez expirez', 9, 1, 'Canada', 'CraveTV', '15-11-2023', 'episode09-411703-15112023-saison1-Inspirez-expirez.html\\r\\n'), ('Inspirez expirez', 10, 1, 'Canada', 'CraveTV', '15-11-2023', 'episode10-411704-15112023-saison1-Inspirez-expirez.html\\r\\n'), ('Magnum P.I. (2018)', 16, 5, 'Etats-Unis', 'NBC', '15-11-2023', 'episode16-410796-15112023-saison5-Magnum-PI-(2018).html\\r\\n'), ('Quantum Leap (2022)', 6, 2, 'Etats-Unis', 'NBC', '15-11-2023', 'episode06-410801-15112023-saison2-Quantum-Leap-(2022).html\\r\\n'), ('Robyn Hood', 8, 1, 'Canada', 'Global', '15-11-2023', 'episode08-411855-15112023-saison1-Robyn-Hood.html\\r\\n'), ('Sahsiyet', 1, 2, 'Turquie', 'Puhu TV', '15-11-2023', 'episode01-411854-15112023-saison2-Sahsiyet.html\\r\\n'), ('Shetland', 3, 8, 'Royaume-Uni', 'BBC One', '15-11-2023', 'episode03-411755-15112023-saison8-Shetland.html\\r\\n'), ('SurrealEstate', 7, 2, 'Etats-Unis', 'Syfy', '15-11-2023', 'episode07-410934-15112023-saison2-SurrealEstate.html\\r\\n'), ('The Buccaneers (2023)', 4, 1, 'Etats-Unis', 'Apple TV+', '15-11-2023', 'episode04-409070-15112023-saison1-The-Buccaneers-(2023).html\\r\\n'), ('The Lazarus Project', 1, 2, 'Royaume-Uni', 'Sky1', '15-11-2023', 'episode01-411498-15112023-saison2-The-Lazarus-Project.html\\r\\n'), ('The Santa Clauses', 3, 2, 'Etats-Unis', 'Disney+', '15-11-2023', 'episode03-410600-15112023-saison2-The-Santa-Clauses.html\\r\\n'), ('Tout va bien', 1, 1, 'Etats-Unis', 'Disney+', '15-11-2023', 'episode01-411564-15112023-saison1-Tout-va-bien.html\\r\\n'), ('Tout va bien', 2, 1, 'Etats-Unis', 'Disney+', '15-11-2023', 'episode02-411846-15112023-saison1-Tout-va-bien.html\\r\\n'), ('Tout va bien', 3, 1, 'Etats-Unis', 'Disney+', '15-11-2023', 'episode03-411847-15112023-saison1-Tout-va-bien.html\\r\\n'), ('Tout va bien', 4, 1, 'Etats-Unis', 'Disney+', '15-11-2023', 'episode04-411848-15112023-saison1-Tout-va-bien.html\\r\\n'), ('Tout va bien', 5, 1, 'Etats-Unis', 'Disney+', '15-11-2023', 'episode05-411849-15112023-saison1-Tout-va-bien.html\\r\\n'), ('Tout va bien', 6, 1, 'Etats-Unis', 'Disney+', '15-11-2023', 'episode06-411850-15112023-saison1-Tout-va-bien.html\\r\\n'), ('Tout va bien', 7, 1, 'Etats-Unis', 'Disney+', '15-11-2023', 'episode07-411851-15112023-saison1-Tout-va-bien.html\\r\\n'), ('Tout va bien', 8, 1, 'Etats-Unis', 'Disney+', '15-11-2023', 'episode08-411852-15112023-saison1-Tout-va-bien.html\\r\\n'), ('Young Dylan', 11, 4, 'Etats-Unis', 'Nickelodeon', '15-11-2023', 'episode11-411765-15112023-saison4-Young-Dylan.html\\r\\n'), ('Anderson Spider Silva', 1, 1, 'Etats-Unis', 'Paramount+', '16-11-2023', 'episode01-411535-16112023-saison1-Anderson-Spider-Silva.html\\r\\n'), ('Anderson Spider Silva', 2, 1, 'Etats-Unis', 'Paramount+', '16-11-2023', 'episode02-411536-16112023-saison1-Anderson-Spider-Silva.html\\r\\n'), ('Anderson Spider Silva', 3, 1, 'Etats-Unis', 'Paramount+', '16-11-2023', 'episode03-411537-16112023-saison1-Anderson-Spider-Silva.html\\r\\n'), ('Anderson Spider Silva', 4, 1, 'Etats-Unis', 'Paramount+', '16-11-2023', 'episode04-411538-16112023-saison1-Anderson-Spider-Silva.html\\r\\n'), ('À La Carte', 10, 2, 'Etats-Unis', 'ALLBLK', '16-11-2023', 'episode10-410523-16112023-saison2-A-La-Carte.html\\r\\n'), ('BlackBerry', 2, 1, 'Canada', 'CBC', '16-11-2023', 'episode02-411706-16112023-saison1-BlackBerry.html\\r\\n'), ('Frasier (2023)', 7, 1, 'Etats-Unis', 'Paramount+', '16-11-2023', 'episode07-409729-16112023-saison1-Frasier-(2023).html\\r\\n'), ('Julia (2022)', 1, 2, 'Etats-Unis', 'HBO Max', '16-11-2023', 'episode01-410536-16112023-saison2-Julia-(2022).html\\r\\n'), ('Julia (2022)', 2, 2, 'Etats-Unis', 'HBO Max', '16-11-2023', 'episode02-410537-16112023-saison2-Julia-(2022).html\\r\\n'), ('Julia (2022)', 3, 2, 'Etats-Unis', 'HBO Max', '16-11-2023', 'episode03-410538-16112023-saison2-Julia-(2022).html\\r\\n'), ('Kingdom Business', 3, 2, 'Etats-Unis', 'BET+', '16-11-2023', 'episode03-411746-16112023-saison2-Kingdom-Business.html\\r\\n'), ('La Mesias', 7, 1, 'Espagne', 'Moviestar+', '16-11-2023', 'episode07-410549-16112023-saison1-La-Mesias.html\\r\\n'), ('Le Voyageur', 5, 2, 'France', 'France 3', '16-11-2023', 'episode05-411861-16112023-saison2-Le-Voyageur.html\\r\\n'), ('Master Crimes', 3, 1, 'France', 'TF1', '16-11-2023', 'episode03-411529-16112023-saison1-Master-Crimes.html\\r\\n'), ('Master Crimes', 4, 1, 'France', 'TF1', '16-11-2023', 'episode04-411530-16112023-saison1-Master-Crimes.html\\r\\n'), ('Rap Sh!t', 3, 2, 'Etats-Unis', 'HBO Max', '16-11-2023', 'episode03-408169-16112023-saison2-Rap-Sht.html\\r\\n'), ('Terror Lake Drive', 1, 3, 'Etats-Unis', 'ALLBLK', '16-11-2023', 'episode01-411761-16112023-saison3-Terror-Lake-Drive.html\\r\\n'), ('The Crown', 1, 6, 'Etats-Unis', 'Netflix', '16-11-2023', 'episode01-411001-16112023-saison6-The-Crown.html\\r\\n'), ('The Vanishing Triangle', 5, 1, 'Etats-Unis', 'SundanceTV', '16-11-2023', 'episode05-410197-16112023-saison1-The-Vanishing-Triangle.html\\r\\n'), ('Un professore', 1, 2, 'Italie', 'Rai 1', '16-11-2023', 'episode01-411117-16112023-saison2-Un-professore.html\\r\\n'), ('Fellow Travelers', 4, 1, 'Etats-Unis', 'Showtime', '17-11-2023', 'episode04-411452-17112023-saison1-Fellow-Travelers.html\\r\\n'), ('For All Mankind', 2, 4, 'Etats-Unis', 'Apple TV+', '17-11-2023', 'episode02-410206-17112023-saison4-For-All-Mankind.html\\r\\n'), ('Goosebumps (2023)', 10, 1, 'Etats-Unis', 'Disney+', '17-11-2023', 'episode10-409987-17112023-saison1-Goosebumps-(2023).html\\r\\n'), ('Heartbeats', 1, 2, 'Suède', 'TV4', '17-11-2023', 'episode01-411724-17112023-saison2-Heartbeats.html\\r\\n'), ('Invincible', 3, 2, 'Etats-Unis', 'Prime Video', '17-11-2023', 'episode03-411874-17112023-saison2-Invincible.html\\r\\n'), ('Lessons In Chemistry', 7, 1, 'Etats-Unis', 'Apple TV+', '17-11-2023', 'episode07-406603-17112023-saison1-Lessons-In-Chemistry.html\\r\\n'), ('Monarch: Legacy of Monsters', 1, 1, 'Etats-Unis', 'Apple TV+', '17-11-2023', 'episode01-409991-17112023-saison1-Monarch-Legacy-of-Monsters.html\\r\\n'), ('Monarch: Legacy of Monsters', 2, 1, 'Etats-Unis', 'Apple TV+', '17-11-2023', 'episode02-409992-17112023-saison1-Monarch-Legacy-of-Monsters.html\\r\\n'), ('NCIS: Sydney', 2, 1, 'Etats-Unis', 'Paramount+', '17-11-2023', 'episode02-410216-17112023-saison1-NCIS-Sydney.html\\r\\n'), ('Ojitos de huevo', 1, 1, 'Etats-Unis', 'Netflix', '17-11-2023', 'episode01-411563-17112023-saison1-Ojitos-de-huevo.html\\r\\n'), ('Sagrada familia', 1, 2, 'Etats-Unis', 'Netflix', '17-11-2023', 'episode01-411642-17112023-saison2-Sagrada-familia.html\\r\\n'), ('Shining Vale', 6, 2, 'Etats-Unis', 'Starz', '17-11-2023', 'episode06-411129-17112023-saison2-Shining-Vale.html\\r\\n'), ('SOKO Leipzig', 13, 24, 'Allemagne', 'ZDF', '17-11-2023', 'episode13-411901-17112023-saison24-SOKO-Leipzig.html\\r\\n'), ('Solsidan', 9, 8, 'Suède', 'TV4', '17-11-2023', 'episode09-411759-17112023-saison8-Solsidan.html\\r\\n'), ('Sort Of', 1, 3, 'Canada', 'CBC Gem', '17-11-2023', 'episode01-410155-17112023-saison3-Sort-Of.html\\r\\n'), ('The Curse (2023)', 2, 1, 'Etats-Unis', 'Showtime on Demand', '17-11-2023', 'episode02-411762-17112023-saison1-The-Curse-(2023).html\\r\\n'), ('The Good Ship Murder', 6, 1, 'Royaume-Uni', 'Channel 5', '17-11-2023', 'episode06-411247-17112023-saison1-The-Good-Ship-Murder.html\\r\\n'), ('Transplant', 7, 4, 'Canada', 'CTV', '17-11-2023', 'episode07-409843-17112023-saison4-Transplant.html\\r\\n'), ('All Rise', 20, 3, 'Etats-Unis', 'OWN', '18-11-2023', 'episode20-411553-18112023-saison3-All-Rise.html\\r\\n'), ('Beacon 23', 2, 1, 'Etats-Unis', 'Epix', '19-11-2023', 'episode02-411639-19112023-saison1-Beacon-23.html\\r\\n'), ('Fear the Walking Dead', 11, 8, 'Etats-Unis', 'AMC', '19-11-2023', 'episode11-408758-19112023-saison8-Fear-the-Walking-Dead.html\\r\\n'), ('Fear the Walking Dead', 12, 8, 'Etats-Unis', 'AMC', '19-11-2023', 'episode12-408759-26112023-saison8-Fear-the-Walking-Dead.html\\r\\n'), ('Heartland (CA)', 8, 17, 'Canada', 'CBC', '19-11-2023', 'episode08-411743-19112023-saison17-Heartland-(CA).html\\r\\n'), ('Krapopolis', 9, 1, 'Etats-Unis', 'Fox', '19-11-2023', 'episode09-411002-19112023-saison1-Krapopolis.html\\r\\n'), (\"Les Mystères de l'amour\", 15, 33, 'France', 'TMC', '19-11-2023', 'episode15-411792-19112023-saison33-Les-Mysteres-de-l-amour.html\\r\\n'), ('Rick and Morty', 6, 7, 'Etats-Unis', 'Adult Swim', '19-11-2023', 'episode06-411274-19112023-saison7-Rick-and-Morty.html\\r\\n'), ('The Gilded Age', 4, 2, 'Etats-Unis', 'HBO', '19-11-2023', 'episode04-411130-19112023-saison2-The-Gilded-Age.html\\r\\n'), ('Acting Good', 6, 2, 'Canada', 'The Comedy Network', '20-11-2023', 'episode06-411301-20112023-saison2-Acting-Good.html\\r\\n'), ('American Dad!', 18, 19, 'Etats-Unis', 'TBS (US)', '20-11-2023', 'episode18-411622-20112023-saison19-American-Dad.html\\r\\n'), ('Murdoch Mysteries', 8, 17, 'Canada', 'Citytv', '20-11-2023', 'episode08-411554-20112023-saison17-Murdoch-Mysteries.html\\r\\n'), ('Spellbound', 14, 1, 'Etats-Unis', 'Hulu', '20-11-2023', 'episode14-410565-20112023-saison1-Spellbound.html\\r\\n'), ('Spellbound', 15, 1, 'Etats-Unis', 'Hulu', '20-11-2023', 'episode15-410566-20112023-saison1-Spellbound.html\\r\\n'), ('Spellbound', 16, 1, 'Etats-Unis', 'Hulu', '20-11-2023', 'episode16-410567-20112023-saison1-Spellbound.html\\r\\n'), ('Spellbound', 17, 1, 'Etats-Unis', 'Hulu', '20-11-2023', 'episode17-410568-20112023-saison1-Spellbound.html\\r\\n'), ('Spellbound', 18, 1, 'Etats-Unis', 'Hulu', '20-11-2023', 'episode18-410569-20112023-saison1-Spellbound.html\\r\\n'), ('Spellbound', 19, 1, 'Etats-Unis', 'Hulu', '20-11-2023', 'episode19-410570-20112023-saison1-Spellbound.html\\r\\n'), ('Spellbound', 20, 1, 'Etats-Unis', 'Hulu', '20-11-2023', 'episode20-410571-20112023-saison1-Spellbound.html\\r\\n'), ('Spellbound', 21, 1, 'Etats-Unis', 'Hulu', '20-11-2023', 'episode21-410572-20112023-saison1-Spellbound.html\\r\\n'), ('Spellbound', 22, 1, 'Etats-Unis', 'Hulu', '20-11-2023', 'episode22-410573-20112023-saison1-Spellbound.html\\r\\n'), ('Spellbound', 23, 1, 'Etats-Unis', 'Hulu', '20-11-2023', 'episode23-410574-20112023-saison1-Spellbound.html\\r\\n'), ('Spellbound', 24, 1, 'Etats-Unis', 'Hulu', '20-11-2023', 'episode24-410575-20112023-saison1-Spellbound.html\\r\\n'), ('Spellbound', 25, 1, 'Etats-Unis', 'Hulu', '20-11-2023', 'episode25-410576-20112023-saison1-Spellbound.html\\r\\n'), ('Spellbound', 26, 1, 'Etats-Unis', 'Hulu', '20-11-2023', 'episode26-410577-20112023-saison1-Spellbound.html\\r\\n'), ('The Irrational', 9, 1, 'Etats-Unis', 'NBC', '20-11-2023', 'episode09-409868-20112023-saison1-The-Irrational.html\\r\\n'), ('A Murder at the End of the World', 3, 1, 'Etats-Unis', 'Hulu', '21-11-2023', 'episode03-407979-21112023-saison1-A-Murder-at-the-End-of-the-World.html\\r\\n'), ('Fargo', 1, 5, 'Etats-Unis', 'FX', '21-11-2023', 'episode01-409056-21112023-saison5-Fargo.html\\r\\n'), ('Fargo', 2, 5, 'Etats-Unis', 'FX', '21-11-2023', 'episode02-411343-21112023-saison5-Fargo.html\\r\\n'), ('Found', 8, 1, 'Etats-Unis', 'NBC', '21-11-2023', 'episode08-409899-21112023-saison1-Found.html\\r\\n'), ('Black Cake', 6, 1, 'Etats-Unis', 'Hulu', '22-11-2023', 'episode06-410152-22112023-saison1-Black-Cake.html\\r\\n'), ('Chucky', 8, 3, 'Etats-Unis', 'Syfy', '22-11-2023', 'episode08-409121-22112023-saison3-Chucky.html\\r\\n'), ('Magnum P.I. (2018)', 17, 5, 'Etats-Unis', 'NBC', '22-11-2023', 'episode17-410797-15112023-saison5-Magnum-PI-(2018).html\\r\\n'), ('Magnum P.I. (2018)', 18, 5, 'Etats-Unis', 'NBC', '22-11-2023', 'episode18-410798-22112023-saison5-Magnum-PI-(2018).html\\r\\n'), ('SurrealEstate', 8, 2, 'Etats-Unis', 'Syfy', '22-11-2023', 'episode08-411102-22112023-saison2-SurrealEstate.html\\r\\n'), ('The Buccaneers (2023)', 5, 1, 'Etats-Unis', 'Apple TV+', '22-11-2023', 'episode05-409071-22112023-saison1-The-Buccaneers-(2023).html\\r\\n'), ('The Santa Clauses', 4, 2, 'Etats-Unis', 'Disney+', '22-11-2023', 'episode04-410601-22112023-saison2-The-Santa-Clauses.html\\r\\n'), ('BlackBerry', 3, 1, 'Canada', 'CBC', '23-11-2023', 'episode03-411707-23112023-saison1-BlackBerry.html\\r\\n'), ('Frasier (2023)', 8, 1, 'Etats-Unis', 'Paramount+', '23-11-2023', 'episode08-409730-23112023-saison1-Frasier-(2023).html\\r\\n'), ('Julia (2022)', 4, 2, 'Etats-Unis', 'HBO Max', '23-11-2023', 'episode04-410539-23112023-saison2-Julia-(2022).html\\r\\n'), ('Kingdom Business', 4, 2, 'Etats-Unis', 'BET+', '23-11-2023', 'episode04-411747-23112023-saison2-Kingdom-Business.html\\r\\n'), ('Master Crimes', 5, 1, 'France', 'TF1', '23-11-2023', 'episode05-411531-23112023-saison1-Master-Crimes.html\\r\\n'), ('Master Crimes', 6, 1, 'France', 'TF1', '23-11-2023', 'episode06-411532-23112023-saison1-Master-Crimes.html\\r\\n'), ('Rap Sh!t', 4, 2, 'Etats-Unis', 'HBO Max', '23-11-2023', 'episode04-408170-23112023-saison2-Rap-Sht.html\\r\\n'), ('The Vanishing Triangle', 6, 1, 'Etats-Unis', 'SundanceTV', '23-11-2023', 'episode06-410198-23112023-saison1-The-Vanishing-Triangle.html\\r\\n'), ('En helt vanlig familj', 1, 1, 'Etats-Unis', 'Netflix', '24-11-2023', 'episode01-411652-24112023-saison1-En-helt-vanlig-familj.html\\r\\n'), ('Fellow Travelers', 5, 1, 'Etats-Unis', 'Showtime', '24-11-2023', 'episode05-411453-24112023-saison1-Fellow-Travelers.html\\r\\n'), ('For All Mankind', 3, 4, 'Etats-Unis', 'Apple TV+', '24-11-2023', 'episode03-410207-24112023-saison4-For-All-Mankind.html\\r\\n'), ('Invincible', 4, 2, 'Etats-Unis', 'Prime Video', '24-11-2023', 'episode04-411875-24112023-saison2-Invincible.html\\r\\n'), ('Lessons In Chemistry', 8, 1, 'Etats-Unis', 'Apple TV+', '24-11-2023', 'episode08-406604-24112023-saison1-Lessons-In-Chemistry.html\\r\\n'), ('Monarch: Legacy of Monsters', 3, 1, 'Etats-Unis', 'Apple TV+', '24-11-2023', 'episode03-409993-24112023-saison1-Monarch-Legacy-of-Monsters.html\\r\\n'), ('My Demon', 1, 1, 'Etats-Unis', 'Netflix', '24-11-2023', 'episode01-411686-24112023-saison1-My-Demon.html\\r\\n'), ('NCIS: Sydney', 3, 1, 'Etats-Unis', 'Paramount+', '24-11-2023', 'episode03-410217-24112023-saison1-NCIS-Sydney.html\\r\\n'), ('Shining Vale', 7, 2, 'Etats-Unis', 'Starz', '24-11-2023', 'episode07-411162-24112023-saison2-Shining-Vale.html\\r\\n'), ('Solsidan', 10, 8, 'Suède', 'TV4', '24-11-2023', 'episode10-411760-24112023-saison8-Solsidan.html\\r\\n'), ('The Curse (2023)', 3, 1, 'Etats-Unis', 'Showtime on Demand', '24-11-2023', 'episode03-411763-24112023-saison1-The-Curse-(2023).html\\r\\n'), ('The Good Ship Murder', 7, 1, 'Royaume-Uni', 'Channel 5', '24-11-2023', 'episode07-411248-24112023-saison1-The-Good-Ship-Murder.html\\r\\n'), ('Transplant', 8, 4, 'Canada', 'CTV', '24-11-2023', 'episode08-411161-24112023-saison4-Transplant.html\\r\\n'), ('Doctor Who (2005) saison 14 episode  spécial', 'XX', 14, 'Royaume-Uni', 'BBC One', '25-11-2023', 'episode-411616-25112023-saison14-Doctor-Who-(2005).html\\r\\n'), ('My Demon', 2, 1, 'Etats-Unis', 'Netflix', '25-11-2023', 'episode02-411687-25112023-saison1-My-Demon.html\\r\\n'), ('Beacon 23', 3, 1, 'Etats-Unis', 'Epix', '26-11-2023', 'episode03-411640-26112023-saison1-Beacon-23.html\\r\\n'), ('Rick and Morty', 7, 7, 'Etats-Unis', 'Adult Swim', '26-11-2023', 'episode07-411275-26112023-saison7-Rick-and-Morty.html\\r\\n'), ('The Gilded Age', 5, 2, 'Etats-Unis', 'HBO', '26-11-2023', 'episode05-411249-26112023-saison2-The-Gilded-Age.html\\r\\n'), ('Acting Good', 7, 2, 'Canada', 'The Comedy Network', '27-11-2023', 'episode07-411302-27112023-saison2-Acting-Good.html\\r\\n'), ('American Dad!', 19, 19, 'Etats-Unis', 'TBS (US)', '27-11-2023', 'episode19-411623-27112023-saison19-American-Dad.html\\r\\n'), ('The Irrational', 10, 1, 'Etats-Unis', 'NBC', '27-11-2023', 'episode10-409869-27112023-saison1-The-Irrational.html\\r\\n'), ('A Murder at the End of the World', 4, 1, 'Etats-Unis', 'Hulu', '28-11-2023', 'episode04-407980-28112023-saison1-A-Murder-at-the-End-of-the-World.html\\r\\n'), ('Fargo', 3, 5, 'Etats-Unis', 'FX', '28-11-2023', 'episode03-411344-28112023-saison5-Fargo.html\\r\\n'), ('Found', 9, 1, 'Etats-Unis', 'NBC', '28-11-2023', 'episode09-409900-28112023-saison1-Found.html\\r\\n'), ('Black Cake', 7, 1, 'Etats-Unis', 'Hulu', '29-11-2023', 'episode07-410153-29112023-saison1-Black-Cake.html\\r\\n'), ('Magnum P.I. (2018)', 19, 5, 'Etats-Unis', 'NBC', '29-11-2023', 'episode19-410799-29112023-saison5-Magnum-PI-(2018).html\\r\\n'), ('Quantum Leap (2022)', 9, 2, 'Etats-Unis', 'NBC', '29-11-2023', 'episode09-411315-29112023-saison2-Quantum-Leap-(2022).html\\r\\n'), ('SurrealEstate', 9, 2, 'Etats-Unis', 'Syfy', '29-11-2023', 'episode09-411103-29112023-saison2-SurrealEstate.html\\r\\n'), ('The Artful Dodger', 1, 1, 'Etats-Unis', 'Disney+', '29-11-2023', 'episode01-411104-29112023-saison1-The-Artful-Dodger.html\\r\\n'), ('The Buccaneers (2023)', 6, 1, 'Etats-Unis', 'Apple TV+', '29-11-2023', 'episode06-409072-29112023-saison1-The-Buccaneers-(2023).html\\r\\n'), ('The Santa Clauses', 5, 2, 'Etats-Unis', 'Disney+', '29-11-2023', 'episode05-410602-29112023-saison2-The-Santa-Clauses.html\\r\\n'), ('Family Law (CAN)', 1, 3, 'Canada', 'Global', '30-11-2023', 'episode01-410524-30112023-saison3-Family-Law-(CAN).html\\r\\n'), ('Family Law (CAN)', 2, 3, 'Canada', 'Global', '30-11-2023', 'episode02-410525-30112023-saison3-Family-Law-(CAN).html\\r\\n'), ('Family Law (CAN)', 3, 3, 'Canada', 'Global', '30-11-2023', 'episode03-410526-30112023-saison3-Family-Law-(CAN).html\\r\\n'), ('Family Law (CAN)', 4, 3, 'Canada', 'Global', '30-11-2023', 'episode04-410527-30112023-saison3-Family-Law-(CAN).html\\r\\n'), ('Family Law (CAN)', 5, 3, 'Canada', 'Global', '30-11-2023', 'episode05-410528-30112023-saison3-Family-Law-(CAN).html\\r\\n'), ('Family Law (CAN)', 6, 3, 'Canada', 'Global', '30-11-2023', 'episode06-410529-30112023-saison3-Family-Law-(CAN).html\\r\\n'), ('Family Law (CAN)', 7, 3, 'Canada', 'Global', '30-11-2023', 'episode07-410530-30112023-saison3-Family-Law-(CAN).html\\r\\n'), ('Family Law (CAN)', 8, 3, 'Canada', 'Global', '30-11-2023', 'episode08-410531-30112023-saison3-Family-Law-(CAN).html\\r\\n'), ('Family Law (CAN)', 9, 3, 'Canada', 'Global', '30-11-2023', 'episode09-410532-30112023-saison3-Family-Law-(CAN).html\\r\\n'), ('Family Law (CAN)', 10, 3, 'Canada', 'Global', '30-11-2023', 'episode10-410533-30112023-saison3-Family-Law-(CAN).html\\r\\n'), ('Frasier (2023)', 9, 1, 'Etats-Unis', 'Paramount+', '30-11-2023', 'episode09-409731-30112023-saison1-Frasier-(2023).html\\r\\n'), ('Julia (2022)', 5, 2, 'Etats-Unis', 'HBO Max', '30-11-2023', 'episode05-410540-30112023-saison2-Julia-(2022).html\\r\\n'), ('Obliterated', 1, 1, 'Etats-Unis', 'Netflix', '30-11-2023', 'episode01-409739-30112023-saison1-Obliterated.html\\r\\n'), ('Obliterated', 2, 1, 'Etats-Unis', 'Netflix', '30-11-2023', 'episode02-409740-30112023-saison1-Obliterated.html\\r\\n'), ('Obliterated', 3, 1, 'Etats-Unis', 'Netflix', '30-11-2023', 'episode03-409741-30112023-saison1-Obliterated.html\\r\\n'), ('Obliterated', 4, 1, 'Etats-Unis', 'Netflix', '30-11-2023', 'episode04-409742-30112023-saison1-Obliterated.html\\r\\n'), ('Obliterated', 5, 1, 'Etats-Unis', 'Netflix', '30-11-2023', 'episode05-409743-30112023-saison1-Obliterated.html\\r\\n'), ('Obliterated', 6, 1, 'Etats-Unis', 'Netflix', '30-11-2023', 'episode06-409744-30112023-saison1-Obliterated.html\\r\\n'), ('Obliterated', 7, 1, 'Etats-Unis', 'Netflix', '30-11-2023', 'episode07-409745-30112023-saison1-Obliterated.html\\r\\n'), ('Obliterated', 8, 1, 'Etats-Unis', 'Netflix', '30-11-2023', 'episode08-409746-30112023-saison1-Obliterated.html\\r\\n'), ('Rap Sh!t', 5, 2, 'Etats-Unis', 'HBO Max', '30-11-2023', 'episode05-408171-30112023-saison2-Rap-Sht.html\\r\\n'), ('Virgin River', 11, 5, 'Etats-Unis', 'Netflix', '30-11-2023', 'episode11-411788-30112023-saison5-Virgin-River.html\\r\\n'), ('Virgin River', 12, 5, 'Etats-Unis', 'Netflix', '30-11-2023', 'episode12-411789-30112023-saison5-Virgin-River.html\\r\\n')]\n"
     ]
    }
   ],
   "source": [
    "\n",
    "with open('../datas/files/episodes.csv', 'r', encoding='utf-8', newline='') as csvfile:\n",
    "\n",
    "    # Ignorer l'en-tête du fichier CSV\n",
    "    next(csvfile)\n",
    "\n",
    "    table = []\n",
    "\n",
    "    for line in csvfile:\n",
    "\n",
    "        cells = line.split(',')\n",
    "\n",
    "        show = cells[0]\n",
    "        episode = cells[1]\n",
    "        season = cells[2]\n",
    "        country = cells[3]\n",
    "        channel = cells[4]\n",
    "        date = cells[5]\n",
    "        link = cells[6]\n",
    "\n",
    "        table.append((show, episode, season, country, channel, date, link))\n",
    "\n",
    "\n",
    "print(table)\n"
   ]
  },
  {
   "cell_type": "code",
   "execution_count": 12,
   "metadata": {},
   "outputs": [
    {
     "name": "stdout",
     "output_type": "stream",
     "text": [
      "Base de données créée avec succès.\n"
     ]
    }
   ],
   "source": [
    "\n",
    "import sqlite3\n",
    "\n",
    "conn = sqlite3.connect('../datas/database/database.db')\n",
    "# Création d'un curseur pour exécuter des requêtes SQL\n",
    "cursor = conn.cursor()\n",
    "\n",
    "# Créer la table \"episodes\" dans la base de données\n",
    "cursor.execute('''CREATE TABLE IF NOT EXISTS episodes\n",
    "                  (id INTEGER PRIMARY KEY AUTOINCREMENT,\n",
    "                  show TEXT NOT NULL,\n",
    "                  episode INTEGER NOT NULL,\n",
    "                  season INTEGER NOT NULL,\n",
    "                  country TEXT NOT NULL,\n",
    "                  channel TEXT NOT NULL,\n",
    "                  date TEXT NOT NULL,\n",
    "                  link TEXT NOT NULL)''')\n",
    "\n",
    "# Insérer l'objet Episode dans la table \"episodes\"\n",
    "for episode in episodes:\n",
    "    cursor.execute(\"INSERT INTO episodes (show, episode, season, country, channel, date, link) VALUES (?, ?, ?, ?, ?, ?, ?)\",\n",
    "                (episode.show, episode.episode, episode.season, episode.country, episode.channel,\n",
    "                    episode.date, episode.link))\n",
    "\n",
    "# Valider les changements et fermer la connexion\n",
    "conn.commit()\n",
    "conn.close()\n",
    "\n",
    "print(\"Base de données créée avec succès.\")"
   ]
  },
  {
   "cell_type": "code",
   "execution_count": 33,
   "metadata": {},
   "outputs": [
    {
     "name": "stdout",
     "output_type": "stream",
     "text": [
      "Chaîne : Netflix, Nombre d'épisodes diffusés en Octobre : 39\n",
      "Chaîne : Disney+, Nombre d'épisodes diffusés en Octobre : 32\n",
      "Chaîne : Hulu, Nombre d'épisodes diffusés en Octobre : 24\n",
      "Chaîne : BBC iPlayer, Nombre d'épisodes diffusés en Octobre : 20\n",
      "Chaîne : Apple TV+, Nombre d'épisodes diffusés en Octobre : 17\n",
      "Chaîne : NBC, Nombre d'épisodes diffusés en Octobre : 16\n",
      "Chaîne : Paramount+, Nombre d'épisodes diffusés en Octobre : 15\n",
      "Chaîne : Global, Nombre d'épisodes diffusés en Octobre : 13\n",
      "Chaîne : HBO Max, Nombre d'épisodes diffusés en Octobre : 12\n",
      "Chaîne : TF1, Nombre d'épisodes diffusés en Octobre : 10\n",
      "Chaîne : Syfy, Nombre d'épisodes diffusés en Octobre : 9\n",
      "Chaîne : Fox, Nombre d'épisodes diffusés en Octobre : 9\n",
      "Chaîne : ZDF, Nombre d'épisodes diffusés en Octobre : 7\n",
      "Chaîne : CraveTV, Nombre d'épisodes diffusés en Octobre : 7\n",
      "Chaîne : CBC, Nombre d'épisodes diffusés en Octobre : 6\n",
      "Chaîne : AMC, Nombre d'épisodes diffusés en Octobre : 6\n",
      "Chaîne : Prime Video, Nombre d'épisodes diffusés en Octobre : 5\n",
      "Chaîne : Citytv, Nombre d'épisodes diffusés en Octobre : 5\n",
      "Chaîne : Channel 5, Nombre d'épisodes diffusés en Octobre : 5\n",
      "Chaîne : CTV, Nombre d'épisodes diffusés en Octobre : 5\n",
      "Chaîne : The Comedy Network, Nombre d'épisodes diffusés en Octobre : 4\n",
      "Chaîne : TV4, Nombre d'épisodes diffusés en Octobre : 4\n",
      "Chaîne : TBS (US), Nombre d'épisodes diffusés en Octobre : 4\n",
      "Chaîne : SundanceTV, Nombre d'épisodes diffusés en Octobre : 4\n",
      "Chaîne : Starz, Nombre d'épisodes diffusés en Octobre : 4\n",
      "Chaîne : HBO, Nombre d'épisodes diffusés en Octobre : 4\n",
      "Chaîne : Epix, Nombre d'épisodes diffusés en Octobre : 4\n",
      "Chaîne : BET+, Nombre d'épisodes diffusés en Octobre : 4\n",
      "Chaîne : BBC One, Nombre d'épisodes diffusés en Octobre : 4\n",
      "Chaîne : Adult Swim, Nombre d'épisodes diffusés en Octobre : 4\n",
      "Chaîne : ALLBLK, Nombre d'épisodes diffusés en Octobre : 4\n",
      "Chaîne : TMC, Nombre d'épisodes diffusés en Octobre : 3\n",
      "Chaîne : Showtime on Demand, Nombre d'épisodes diffusés en Octobre : 3\n",
      "Chaîne : Showtime, Nombre d'épisodes diffusés en Octobre : 3\n",
      "Chaîne : Rai 1, Nombre d'épisodes diffusés en Octobre : 3\n",
      "Chaîne : OWN, Nombre d'épisodes diffusés en Octobre : 3\n",
      "Chaîne : Nickelodeon, Nombre d'épisodes diffusés en Octobre : 3\n",
      "Chaîne : Moviestar+, Nombre d'épisodes diffusés en Octobre : 3\n",
      "Chaîne : FX, Nombre d'épisodes diffusés en Octobre : 3\n",
      "Chaîne : CBC Gem, Nombre d'épisodes diffusés en Octobre : 3\n",
      "Chaîne : BET, Nombre d'épisodes diffusés en Octobre : 3\n",
      "Chaîne : TVE, Nombre d'épisodes diffusés en Octobre : 2\n",
      "Chaîne : OCS, Nombre d'épisodes diffusés en Octobre : 2\n",
      "Chaîne : France 2, Nombre d'épisodes diffusés en Octobre : 2\n",
      "Chaîne : Canal+, Nombre d'épisodes diffusés en Octobre : 2\n",
      "Chaîne : Amazon Freevee, Nombre d'épisodes diffusés en Octobre : 2\n",
      "Chaîne : ATRESplayer, Nombre d'épisodes diffusés en Octobre : 2\n",
      "Chaîne : Één, Nombre d'épisodes diffusés en Octobre : 1\n",
      "Chaîne : Sky1, Nombre d'épisodes diffusés en Octobre : 1\n",
      "Chaîne : Puhu TV, Nombre d'épisodes diffusés en Octobre : 1\n",
      "Chaîne : Paramount Network, Nombre d'épisodes diffusés en Octobre : 1\n",
      "Chaîne : ITVX, Nombre d'épisodes diffusés en Octobre : 1\n",
      "Chaîne : France 3, Nombre d'épisodes diffusés en Octobre : 1\n",
      "Chaîne : Acorn TV, Nombre d'épisodes diffusés en Octobre : 1\n"
     ]
    }
   ],
   "source": [
    "import sqlite3\n",
    "\n",
    "# Connexion à la base de données\n",
    "conn = sqlite3.connect('../datas/database/database.db')\n",
    "cursor = conn.cursor()\n",
    "\n",
    "# Requête SQL pour compter le nombre d'épisodes par chaîne en Octobre\n",
    "query = \"\"\"\n",
    "    SELECT channel, COUNT(*) AS episode_count\n",
    "    FROM episodes\n",
    "    WHERE SUBSTR(date, 4, 2) = '11'\n",
    "    GROUP BY channel\n",
    "    ORDER BY episode_count DESC;\n",
    "\"\"\"\n",
    "\n",
    "# Exécution de la requête\n",
    "cursor.execute(query)\n",
    "\n",
    "# Récupération des résultats\n",
    "results = cursor.fetchall()\n",
    "\n",
    "# Affichage des résultats\n",
    "for row in results:\n",
    "    channel, episode_count = row\n",
    "    print(f\"Chaîne : {channel}, Nombre d'épisodes diffusés en Octobre : {episode_count}\")\n",
    "\n",
    "# Fermeture de la connexion à la base de données\n",
    "conn.close()"
   ]
  },
  {
   "cell_type": "code",
   "execution_count": 36,
   "metadata": {},
   "outputs": [
    {
     "name": "stdout",
     "output_type": "stream",
     "text": [
      "Etats-Unis, Nombre d'épisodes diffusés en Octobre : 238\n",
      "Canada, Nombre d'épisodes diffusés en Octobre : 43\n",
      "Royaume-Uni, Nombre d'épisodes diffusés en Octobre : 31\n",
      "France, Nombre d'épisodes diffusés en Octobre : 20\n",
      "Espagne, Nombre d'épisodes diffusés en Octobre : 7\n",
      "Allemagne, Nombre d'épisodes diffusés en Octobre : 7\n",
      "Suède, Nombre d'épisodes diffusés en Octobre : 4\n",
      "Italie, Nombre d'épisodes diffusés en Octobre : 3\n",
      "Turquie, Nombre d'épisodes diffusés en Octobre : 1\n",
      "Belgique, Nombre d'épisodes diffusés en Octobre : 1\n"
     ]
    }
   ],
   "source": [
    "import sqlite3\n",
    "\n",
    "# Connexion à la base de données\n",
    "conn = sqlite3.connect('../datas/database/database.db')\n",
    "cursor = conn.cursor()\n",
    "\n",
    "# Requête SQL pour compter le nombre d'épisodes par chaîne en Octobre\n",
    "query = \"\"\"\n",
    "    SELECT country, COUNT(*) AS episode_count\n",
    "    FROM episodes\n",
    "    WHERE SUBSTR(date, 4, 2) = '11'\n",
    "    GROUP BY country\n",
    "    ORDER BY episode_count DESC;\n",
    "\"\"\"\n",
    "\n",
    "# Exécution de la requête\n",
    "cursor.execute(query)\n",
    "\n",
    "# Récupération des résultats\n",
    "resultsBis = cursor.fetchall()\n",
    "\n",
    "# Affichage des résultats\n",
    "for row in resultsBis:\n",
    "    country, episode_count = row\n",
    "    print(f\"{country}, Nombre d'épisodes diffusés en Octobre : {episode_count}\")\n",
    "\n",
    "# Fermeture de la connexion à la base de données\n",
    "conn.close()"
   ]
  },
  {
   "cell_type": "code",
   "execution_count": 40,
   "metadata": {},
   "outputs": [
    {
     "name": "stdout",
     "output_type": "stream",
     "text": [
      "{'the': 21, 'all': 4, 'of': 3, 'and': 3, 'de': 3, 'murder': 2, 'at': 2, 'good': 2, 'legacy': 2, 'family': 2, 'tout': 2, 'la': 2, 'soko': 2, 'un': 2, 'estrellas': 1, 'a': 1, 'end': 1, 'world': 1, 'acting': 1, 'creatures': 1, 'great': 1, 'small': 1, 'rise': 1, 'light': 1, 'we': 1, 'cannot': 1, 'see': 1, 'american': 1, 'dad!': 1, 'anderson': 1, 'spider': 1, 'silva': 1, 'andy': 1, 'band': 1, 'moment': 1, 'shi': 1, 'ci': 1, 'beacon': 1, 'billy': 1, 'kid': 1, 'black': 1, 'cake': 1, 'blackberry': 1, 'blanca': 1, \"bob's\": 1, 'burgers': 1, 'boomer': 1, 'bosch:': 1, 'bros': 1, 'children': 1, 'ruin': 1, 'everything': 1, 'chucky': 1, \"cooper's\": 1, 'bar': 1, 'culprits': 1, \"d'argent\": 1, 'et': 1, 'sang': 1, 'dna': 1, 'do': 1, 'crime': 1, 'demain': 1, 'nous': 1, 'appartient': 1, 'deutsches': 1, 'haus': 1, 'doctor': 1, 'who': 1, 'doom': 1, 'patrol': 1, 'en': 1, 'helt': 1, 'vanlig': 1, 'familj': 1, 'entre': 1, 'tierras': 1, 'guy': 1, 'law': 1, 'fargo': 1, 'fear': 1, 'walking': 1, 'dead': 1, 'fellow': 1, 'travelers': 1, 'for': 1, 'mankind': 1, 'found': 1, 'frasier': 1, 'gadis': 1, 'kretek': 1, 'goosebumps': 1, 'harry': 1, 'wild': 1, 'heartbeats': 1, 'heartland': 1, 'hotel': 1, 'mondial': 1, 'hudson': 1, '&': 1, 'rex': 1, 'i': 1, 'leoni': 1, 'di': 1, 'sicilia': 1, 'ici': 1, 'commence': 1, 'informacja': 1, 'zwrotna': 1, 'inspirez': 1, 'expirez': 1, 'invincible': 1, 'julia': 1, 'kingdom': 1, 'business': 1, 'krapopolis': 1, 'mesias': 1, 'lawmen:': 1, 'bass': 1, 'reeves': 1, 'le': 1, 'voyageur': 1, 'les': 1, 'mystères': 1, \"l'amour\": 1, 'lessons': 1, 'in': 1, 'chemistry': 1, 'loki': 1, 'magnum': 1, 'p.i.': 1, 'master': 1, 'crimes': 1, 'monarch:': 1, 'monsters': 1, 'murdoch': 1, 'mysteries': 1, 'my': 1, 'demon': 1, 'ncis:': 1, 'sydney': 1, 'obliterated': 1, 'ojitos': 1, 'huevo': 1, 'power': 1, 'book': 1, 'iv:': 1, 'force': 1, 'quantum': 1, 'leap': 1, 'rap': 1, 'sh!t': 1, 'rick': 1, 'morty': 1, 'robyn': 1, 'hood': 1, 'leipzig': 1, 'potsdam': 1, 'sagrada': 1, 'familia': 1, 'sahsiyet': 1, 'shetland': 1, 'shining': 1, 'vale': 1, 'sistas': 1, 'skymed': 1, 'solsidan': 1, 'sort': 1, 'spellbound': 1, 'star': 1, 'trek:': 1, 'lower': 1, 'decks': 1, 'suburræterna': 1, 'surrealestate': 1, 'terror': 1, 'lake': 1, 'drive': 1, 'artful': 1, 'dodger': 1, 'buccaneers': 1, 'crown': 1, 'curse': 1, 'gilded': 1, 'age': 1, 'ship': 1, 'irrational': 1, 'lazarus': 1, 'project': 1, 'morning': 1, 'show': 1, 'oval': 1, 'santa': 1, 'clauses': 1, 'simpsons': 1, 'vanishing': 1, 'triangle': 1, 'winter': 1, 'king': 1, 'va': 1, 'bien': 1, 'transplant': 1, 'si': 1, 'grand': 1, 'soleil': 1, 'professore': 1, 'upload': 1, 'vigilante': 1, 'virgin': 1, 'river': 1, 'yellowstone': 1, 'young': 1, 'dylan': 1, 'à': 1, 'carte': 1}\n"
     ]
    }
   ],
   "source": [
    "import sqlite3\n",
    "\n",
    "# Connexion à la base de données\n",
    "conn = sqlite3.connect('../datas/database/database.db')\n",
    "cursor = conn.cursor()\n",
    "\n",
    "# Requête SQL pour compter le nombre d'épisodes par chaîne en Octobre\n",
    "query = \"\"\"\n",
    "    SELECT show \n",
    "    FROM episodes\n",
    "    WHERE SUBSTR(date, 4, 2) = '11'\n",
    "    GROUP BY show;\n",
    "\"\"\"\n",
    "\n",
    "# Exécution de la requête\n",
    "cursor.execute(query)\n",
    "\n",
    "# Récupération des résultats\n",
    "resultsTer = cursor.fetchall()\n",
    "conn.close()\n",
    "\n",
    "# Récupération des mots\n",
    "dictionary = {}\n",
    "\n",
    "for row in resultsTer:\n",
    "    show, = row\n",
    "\n",
    "    for word in show.split(' '):\n",
    "        \n",
    "        isNotWord = re.search('[0-9()[\\\\]_]', word)\n",
    "        if isNotWord:\n",
    "            continue\n",
    "        \n",
    "        word = word.lower()\n",
    "        \n",
    "        if not word in dictionary:\n",
    "            dictionary[word] = 0\n",
    "        dictionary[word] += 1\n",
    "    \n",
    "sorted_counter = dict(sorted(dictionary.items(), key=lambda item: item[1], reverse=True))\n",
    "\n",
    "print(sorted_counter)"
   ]
  }
 ],
 "metadata": {
  "kernelspec": {
   "display_name": "Python 3",
   "language": "python",
   "name": "python3"
  },
  "language_info": {
   "codemirror_mode": {
    "name": "ipython",
    "version": 3
   },
   "file_extension": ".py",
   "mimetype": "text/x-python",
   "name": "python",
   "nbconvert_exporter": "python",
   "pygments_lexer": "ipython3",
   "version": "3.12.0"
  }
 },
 "nbformat": 4,
 "nbformat_minor": 2
}
